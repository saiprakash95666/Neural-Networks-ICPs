{
  "nbformat": 4,
  "nbformat_minor": 0,
  "metadata": {
    "colab": {
      "provenance": []
    },
    "kernelspec": {
      "name": "python3",
      "display_name": "Python 3"
    },
    "language_info": {
      "name": "python"
    }
  },
  "cells": [
    {
      "cell_type": "markdown",
      "source": [
        "#Kurmathi Sai Prakash Reddy\n",
        "#700752703"
      ],
      "metadata": {
        "id": "7ddGGoZkPuKZ"
      }
    },
    {
      "cell_type": "markdown",
      "source": [
        "Question 1"
      ],
      "metadata": {
        "id": "fuMKOEUvMFky"
      }
    },
    {
      "cell_type": "code",
      "execution_count": 1,
      "metadata": {
        "colab": {
          "base_uri": "https://localhost:8080/",
          "height": 36
        },
        "id": "4tKD1aZuMD3M",
        "outputId": "b2ae1d3f-4df3-4ba2-b80c-34f2ad143bf3"
      },
      "outputs": [
        {
          "output_type": "execute_result",
          "data": {
            "text/plain": [
              "'ntyp'"
            ],
            "application/vnd.google.colaboratory.intrinsic+json": {
              "type": "string"
            }
          },
          "metadata": {},
          "execution_count": 1
        }
      ],
      "source": [
        "input = \"python\"\n",
        "resultant_string = input[0:3]+input[5]\n",
        "resultant_string[::-1]"
      ]
    },
    {
      "cell_type": "code",
      "source": [
        "a = 55\n",
        "b = 33\n",
        "print(\"sum: \",a+b)\n",
        "print(\"Difference:\", a-b)\n",
        "print(\"Division:\",a/b)\n",
        "print(\"Multiplication:\",a*b)"
      ],
      "metadata": {
        "colab": {
          "base_uri": "https://localhost:8080/"
        },
        "id": "9_IQMAHwNC7d",
        "outputId": "48344615-c2f6-4cf2-882d-3ef293a5297b"
      },
      "execution_count": 4,
      "outputs": [
        {
          "output_type": "stream",
          "name": "stdout",
          "text": [
            "sum:  88\n",
            "Difference: 22\n",
            "Division: 1.6666666666666667\n",
            "Multiplication: 1815\n"
          ]
        }
      ]
    },
    {
      "cell_type": "markdown",
      "source": [
        "Question 2"
      ],
      "metadata": {
        "id": "OZXl8UrdNokt"
      }
    },
    {
      "cell_type": "code",
      "source": [
        "inp_string = \"I love playing with python\"\n",
        "print(inp_string.replace('python', 'pythons'))"
      ],
      "metadata": {
        "colab": {
          "base_uri": "https://localhost:8080/"
        },
        "id": "2didJztXNRzW",
        "outputId": "8cbb1842-5174-4acb-c40c-e4051643f1eb"
      },
      "execution_count": 8,
      "outputs": [
        {
          "output_type": "stream",
          "name": "stdout",
          "text": [
            "I love playing with pythons\n"
          ]
        }
      ]
    },
    {
      "cell_type": "code",
      "source": [
        "marks = 91\n",
        "if marks >= 90:\n",
        "  print(\"Your Grade is A\")\n",
        "elif marks >= 80:\n",
        "  print(\"Your Grade is B\")\n",
        "elif marks >= 70:\n",
        "  print(\"Your Grade is C\")\n",
        "elif marks >= 60:\n",
        "  print(\"Your Grade is D\")\n",
        "else:\n",
        "  print(\"Your Grade is F\")"
      ],
      "metadata": {
        "colab": {
          "base_uri": "https://localhost:8080/"
        },
        "id": "xzFVXNowN5rY",
        "outputId": "b1ce8f88-0413-4047-fe73-606cd59ab4ae"
      },
      "execution_count": 11,
      "outputs": [
        {
          "output_type": "stream",
          "name": "stdout",
          "text": [
            "Your Grade is A\n"
          ]
        }
      ]
    },
    {
      "cell_type": "code",
      "source": [],
      "metadata": {
        "id": "9_Te-taePaX-"
      },
      "execution_count": null,
      "outputs": []
    }
  ]
}